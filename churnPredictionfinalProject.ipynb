{
  "cells": [
    {
      "cell_type": "markdown",
      "metadata": {
        "id": "view-in-github",
        "colab_type": "text"
      },
      "source": [
        "<a href=\"https://colab.research.google.com/github/Barclaysdev2011/data_science/blob/main/churnPredictionfinalProject.ipynb\" target=\"_parent\"><img src=\"https://colab.research.google.com/assets/colab-badge.svg\" alt=\"Open In Colab\"/></a>"
      ]
    },
    {
      "cell_type": "code",
      "execution_count": null,
      "metadata": {
        "id": "P7TBF_54f2JN",
        "outputId": "b8154018-6076-4eac-e675-54fecd6bb20f"
      },
      "outputs": [
        {
          "name": "stdout",
          "output_type": "stream",
          "text": [
            "Requirement already satisfied: boto3 in /opt/conda/lib/python3.11/site-packages (1.34.162)\n",
            "Requirement already satisfied: pandas in /opt/conda/lib/python3.11/site-packages (2.2.3)\n",
            "Requirement already satisfied: openpyxl in /opt/conda/lib/python3.11/site-packages (3.1.5)\n",
            "Requirement already satisfied: botocore<1.35.0,>=1.34.162 in /opt/conda/lib/python3.11/site-packages (from boto3) (1.34.162)\n",
            "Requirement already satisfied: jmespath<2.0.0,>=0.7.1 in /opt/conda/lib/python3.11/site-packages (from boto3) (1.0.1)\n",
            "Requirement already satisfied: s3transfer<0.11.0,>=0.10.0 in /opt/conda/lib/python3.11/site-packages (from boto3) (0.10.3)\n",
            "Requirement already satisfied: numpy>=1.23.2 in /opt/conda/lib/python3.11/site-packages (from pandas) (1.26.4)\n",
            "Requirement already satisfied: python-dateutil>=2.8.2 in /opt/conda/lib/python3.11/site-packages (from pandas) (2.9.0)\n",
            "Requirement already satisfied: pytz>=2020.1 in /opt/conda/lib/python3.11/site-packages (from pandas) (2023.3)\n",
            "Requirement already satisfied: tzdata>=2022.7 in /opt/conda/lib/python3.11/site-packages (from pandas) (2024.2)\n",
            "Requirement already satisfied: et-xmlfile in /opt/conda/lib/python3.11/site-packages (from openpyxl) (2.0.0)\n",
            "Requirement already satisfied: urllib3!=2.2.0,<3,>=1.25.4 in /opt/conda/lib/python3.11/site-packages (from botocore<1.35.0,>=1.34.162->boto3) (1.26.19)\n",
            "Requirement already satisfied: six>=1.5 in /opt/conda/lib/python3.11/site-packages (from python-dateutil>=2.8.2->pandas) (1.16.0)\n"
          ]
        }
      ],
      "source": [
        "!pip install boto3 pandas openpyxl"
      ]
    },
    {
      "cell_type": "code",
      "execution_count": null,
      "metadata": {
        "id": "awCq-JO65Fkw",
        "outputId": "fa450612-3bb2-44da-84eb-6e745ec429df"
      },
      "outputs": [
        {
          "name": "stderr",
          "output_type": "stream",
          "text": [
            "/opt/conda/lib/python3.11/site-packages/openpyxl/worksheet/_reader.py:329: UserWarning: Unknown extension is not supported and will be removed\n",
            "  warn(msg)\n"
          ]
        },
        {
          "data": {
            "text/html": [
              "<div>\n",
              "<style scoped>\n",
              "    .dataframe tbody tr th:only-of-type {\n",
              "        vertical-align: middle;\n",
              "    }\n",
              "\n",
              "    .dataframe tbody tr th {\n",
              "        vertical-align: top;\n",
              "    }\n",
              "\n",
              "    .dataframe thead th {\n",
              "        text-align: right;\n",
              "    }\n",
              "</style>\n",
              "<table border=\"1\" class=\"dataframe\">\n",
              "  <thead>\n",
              "    <tr style=\"text-align: right;\">\n",
              "      <th></th>\n",
              "      <th>custid</th>\n",
              "      <th>retained</th>\n",
              "      <th>created</th>\n",
              "      <th>firstorder</th>\n",
              "      <th>lastorder</th>\n",
              "      <th>esent</th>\n",
              "      <th>eopenrate</th>\n",
              "      <th>eclickrate</th>\n",
              "      <th>avgorder</th>\n",
              "      <th>ordfreq</th>\n",
              "      <th>paperless</th>\n",
              "      <th>refill</th>\n",
              "      <th>doorstep</th>\n",
              "      <th>favday</th>\n",
              "      <th>city</th>\n",
              "    </tr>\n",
              "  </thead>\n",
              "  <tbody>\n",
              "    <tr>\n",
              "      <th>0</th>\n",
              "      <td>6H6T6N</td>\n",
              "      <td>0</td>\n",
              "      <td>2012-09-28</td>\n",
              "      <td>2013-08-11 00:00:00</td>\n",
              "      <td>2013-08-11 00:00:00</td>\n",
              "      <td>29</td>\n",
              "      <td>100.000000</td>\n",
              "      <td>3.448276</td>\n",
              "      <td>14.52</td>\n",
              "      <td>0.000000</td>\n",
              "      <td>0</td>\n",
              "      <td>0</td>\n",
              "      <td>0</td>\n",
              "      <td>Monday</td>\n",
              "      <td>DEL</td>\n",
              "    </tr>\n",
              "    <tr>\n",
              "      <th>1</th>\n",
              "      <td>APCENR</td>\n",
              "      <td>1</td>\n",
              "      <td>2010-12-19</td>\n",
              "      <td>2011-04-01 00:00:00</td>\n",
              "      <td>2014-01-19 00:00:00</td>\n",
              "      <td>95</td>\n",
              "      <td>92.631579</td>\n",
              "      <td>10.526316</td>\n",
              "      <td>83.69</td>\n",
              "      <td>0.181641</td>\n",
              "      <td>1</td>\n",
              "      <td>1</td>\n",
              "      <td>1</td>\n",
              "      <td>Friday</td>\n",
              "      <td>DEL</td>\n",
              "    </tr>\n",
              "    <tr>\n",
              "      <th>2</th>\n",
              "      <td>7UP6MS</td>\n",
              "      <td>0</td>\n",
              "      <td>2010-10-03</td>\n",
              "      <td>2010-12-01 00:00:00</td>\n",
              "      <td>2011-07-06 00:00:00</td>\n",
              "      <td>0</td>\n",
              "      <td>0.000000</td>\n",
              "      <td>0.000000</td>\n",
              "      <td>33.58</td>\n",
              "      <td>0.059908</td>\n",
              "      <td>0</td>\n",
              "      <td>0</td>\n",
              "      <td>0</td>\n",
              "      <td>Wednesday</td>\n",
              "      <td>DEL</td>\n",
              "    </tr>\n",
              "    <tr>\n",
              "      <th>3</th>\n",
              "      <td>7ZEW8G</td>\n",
              "      <td>0</td>\n",
              "      <td>2010-10-22</td>\n",
              "      <td>2011-03-28 00:00:00</td>\n",
              "      <td>2011-03-28 00:00:00</td>\n",
              "      <td>0</td>\n",
              "      <td>0.000000</td>\n",
              "      <td>0.000000</td>\n",
              "      <td>54.96</td>\n",
              "      <td>0.000000</td>\n",
              "      <td>0</td>\n",
              "      <td>0</td>\n",
              "      <td>0</td>\n",
              "      <td>Thursday</td>\n",
              "      <td>BOM</td>\n",
              "    </tr>\n",
              "    <tr>\n",
              "      <th>4</th>\n",
              "      <td>8V726M</td>\n",
              "      <td>1</td>\n",
              "      <td>2010-11-27</td>\n",
              "      <td>2010-11-29 00:00:00</td>\n",
              "      <td>2013-01-28 00:00:00</td>\n",
              "      <td>30</td>\n",
              "      <td>90.000000</td>\n",
              "      <td>13.333333</td>\n",
              "      <td>111.91</td>\n",
              "      <td>0.008850</td>\n",
              "      <td>0</td>\n",
              "      <td>0</td>\n",
              "      <td>0</td>\n",
              "      <td>Monday</td>\n",
              "      <td>BOM</td>\n",
              "    </tr>\n",
              "  </tbody>\n",
              "</table>\n",
              "</div>"
            ],
            "text/plain": [
              "   custid  retained    created           firstorder            lastorder  \\\n",
              "0  6H6T6N         0 2012-09-28  2013-08-11 00:00:00  2013-08-11 00:00:00   \n",
              "1  APCENR         1 2010-12-19  2011-04-01 00:00:00  2014-01-19 00:00:00   \n",
              "2  7UP6MS         0 2010-10-03  2010-12-01 00:00:00  2011-07-06 00:00:00   \n",
              "3  7ZEW8G         0 2010-10-22  2011-03-28 00:00:00  2011-03-28 00:00:00   \n",
              "4  8V726M         1 2010-11-27  2010-11-29 00:00:00  2013-01-28 00:00:00   \n",
              "\n",
              "   esent   eopenrate  eclickrate  avgorder   ordfreq  paperless  refill  \\\n",
              "0     29  100.000000    3.448276     14.52  0.000000          0       0   \n",
              "1     95   92.631579   10.526316     83.69  0.181641          1       1   \n",
              "2      0    0.000000    0.000000     33.58  0.059908          0       0   \n",
              "3      0    0.000000    0.000000     54.96  0.000000          0       0   \n",
              "4     30   90.000000   13.333333    111.91  0.008850          0       0   \n",
              "\n",
              "   doorstep     favday city  \n",
              "0         0     Monday  DEL  \n",
              "1         1     Friday  DEL  \n",
              "2         0  Wednesday  DEL  \n",
              "3         0   Thursday  BOM  \n",
              "4         0     Monday  BOM  "
            ]
          },
          "execution_count": 4,
          "metadata": {},
          "output_type": "execute_result"
        }
      ],
      "source": [
        "import boto3\n",
        "import pandas as pd\n",
        "from io import BytesIO\n",
        "\n",
        "# Initialize the S3 client using the default SageMaker role\n",
        "s3 = boto3.client('s3')\n",
        "\n",
        "# Define the S3 bucket and file key\n",
        "bucket_name = 'churprediction'\n",
        "file_key = 'storedata_total.xlsx'\n",
        "\n",
        "# Fetch the Excel file from S3\n",
        "response = s3.get_object(Bucket=bucket_name, Key=file_key)\n",
        "\n",
        "# Read the file content into a pandas DataFrame\n",
        "excel_data = response['Body'].read()\n",
        "df = pd.read_excel(BytesIO(excel_data))\n",
        "\n",
        "# Display the DataFrame\n",
        "df.head()  # Preview the first few rows of the DataFrame\n"
      ]
    },
    {
      "cell_type": "code",
      "execution_count": null,
      "metadata": {
        "id": "yu4CN46M5Fkx"
      },
      "outputs": [],
      "source": []
    }
  ],
  "metadata": {
    "colab": {
      "provenance": [],
      "include_colab_link": true
    },
    "kernelspec": {
      "display_name": "Python 3 (ipykernel)",
      "language": "python",
      "name": "python3"
    },
    "language_info": {
      "codemirror_mode": {
        "name": "ipython",
        "version": 3
      },
      "file_extension": ".py",
      "mimetype": "text/x-python",
      "name": "python",
      "nbconvert_exporter": "python",
      "pygments_lexer": "ipython3",
      "version": "3.11.10"
    }
  },
  "nbformat": 4,
  "nbformat_minor": 0
}