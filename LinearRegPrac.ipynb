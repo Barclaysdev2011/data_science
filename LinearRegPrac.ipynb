{
  "cells": [
    {
      "cell_type": "markdown",
      "metadata": {
        "id": "view-in-github",
        "colab_type": "text"
      },
      "source": [
        "<a href=\"https://colab.research.google.com/github/Barclaysdev2011/data_science/blob/main/LinearRegPrac.ipynb\" target=\"_parent\"><img src=\"https://colab.research.google.com/assets/colab-badge.svg\" alt=\"Open In Colab\"/></a>"
      ]
    },
    {
      "cell_type": "code",
      "execution_count": null,
      "id": "724fa092",
      "metadata": {
        "id": "724fa092"
      },
      "outputs": [],
      "source": [
        "import pandas as pd\n",
        "import numpy as np\n",
        "import matplotlib.pyplot as plt\n",
        "import seaborn as sns"
      ]
    },
    {
      "cell_type": "code",
      "execution_count": null,
      "id": "1a1f6fba",
      "metadata": {
        "id": "1a1f6fba"
      },
      "outputs": [],
      "source": [
        "df = pd.read_csv('salaries-2023.csv')"
      ]
    },
    {
      "cell_type": "code",
      "execution_count": null,
      "id": "77b93610",
      "metadata": {
        "id": "77b93610"
      },
      "outputs": [],
      "source": [
        "df = df.dropna()"
      ]
    },
    {
      "cell_type": "code",
      "execution_count": null,
      "id": "5e5e06c4",
      "metadata": {
        "id": "5e5e06c4",
        "outputId": "93019b26-b969-4573-920a-9cb64abe0aae"
      },
      "outputs": [
        {
          "data": {
            "text/html": [
              "<div>\n",
              "<style scoped>\n",
              "    .dataframe tbody tr th:only-of-type {\n",
              "        vertical-align: middle;\n",
              "    }\n",
              "\n",
              "    .dataframe tbody tr th {\n",
              "        vertical-align: top;\n",
              "    }\n",
              "\n",
              "    .dataframe thead th {\n",
              "        text-align: right;\n",
              "    }\n",
              "</style>\n",
              "<table border=\"1\" class=\"dataframe\">\n",
              "  <thead>\n",
              "    <tr style=\"text-align: right;\">\n",
              "      <th></th>\n",
              "      <th>language</th>\n",
              "      <th>city</th>\n",
              "      <th>level</th>\n",
              "      <th>years_of_experience</th>\n",
              "      <th>salary</th>\n",
              "    </tr>\n",
              "  </thead>\n",
              "  <tbody>\n",
              "    <tr>\n",
              "      <th>2</th>\n",
              "      <td>php</td>\n",
              "      <td>UK</td>\n",
              "      <td>3.0</td>\n",
              "      <td>10</td>\n",
              "      <td>3000</td>\n",
              "    </tr>\n",
              "    <tr>\n",
              "      <th>3</th>\n",
              "      <td>.net</td>\n",
              "      <td>Danija</td>\n",
              "      <td>2.0</td>\n",
              "      <td>10</td>\n",
              "      <td>2700</td>\n",
              "    </tr>\n",
              "    <tr>\n",
              "      <th>4</th>\n",
              "      <td>php</td>\n",
              "      <td>Vilnius</td>\n",
              "      <td>3.0</td>\n",
              "      <td>10</td>\n",
              "      <td>2800</td>\n",
              "    </tr>\n",
              "    <tr>\n",
              "      <th>5</th>\n",
              "      <td>php</td>\n",
              "      <td>Vilnius</td>\n",
              "      <td>3.0</td>\n",
              "      <td>10</td>\n",
              "      <td>3400</td>\n",
              "    </tr>\n",
              "    <tr>\n",
              "      <th>6</th>\n",
              "      <td>java</td>\n",
              "      <td>Vilnius</td>\n",
              "      <td>3.0</td>\n",
              "      <td>10</td>\n",
              "      <td>2500</td>\n",
              "    </tr>\n",
              "  </tbody>\n",
              "</table>\n",
              "</div>"
            ],
            "text/plain": [
              "  language     city  level  years_of_experience  salary\n",
              "2      php       UK    3.0                   10    3000\n",
              "3     .net   Danija    2.0                   10    2700\n",
              "4      php  Vilnius    3.0                   10    2800\n",
              "5      php  Vilnius    3.0                   10    3400\n",
              "6     java  Vilnius    3.0                   10    2500"
            ]
          },
          "execution_count": 62,
          "metadata": {},
          "output_type": "execute_result"
        }
      ],
      "source": [
        "df.head()"
      ]
    },
    {
      "cell_type": "code",
      "execution_count": null,
      "id": "cec7a2b5",
      "metadata": {
        "id": "cec7a2b5",
        "outputId": "7bb5fa01-0c65-412e-842e-bd90ec8fed48"
      },
      "outputs": [
        {
          "data": {
            "text/html": [
              "<div>\n",
              "<style scoped>\n",
              "    .dataframe tbody tr th:only-of-type {\n",
              "        vertical-align: middle;\n",
              "    }\n",
              "\n",
              "    .dataframe tbody tr th {\n",
              "        vertical-align: top;\n",
              "    }\n",
              "\n",
              "    .dataframe thead th {\n",
              "        text-align: right;\n",
              "    }\n",
              "</style>\n",
              "<table border=\"1\" class=\"dataframe\">\n",
              "  <thead>\n",
              "    <tr style=\"text-align: right;\">\n",
              "      <th></th>\n",
              "      <th>level</th>\n",
              "      <th>years_of_experience</th>\n",
              "      <th>salary</th>\n",
              "    </tr>\n",
              "  </thead>\n",
              "  <tbody>\n",
              "    <tr>\n",
              "      <th>count</th>\n",
              "      <td>760.000000</td>\n",
              "      <td>760.000000</td>\n",
              "      <td>760.000000</td>\n",
              "    </tr>\n",
              "    <tr>\n",
              "      <th>mean</th>\n",
              "      <td>2.203947</td>\n",
              "      <td>5.234211</td>\n",
              "      <td>2839.484211</td>\n",
              "    </tr>\n",
              "    <tr>\n",
              "      <th>std</th>\n",
              "      <td>0.718097</td>\n",
              "      <td>2.948462</td>\n",
              "      <td>2071.858144</td>\n",
              "    </tr>\n",
              "    <tr>\n",
              "      <th>min</th>\n",
              "      <td>1.000000</td>\n",
              "      <td>1.000000</td>\n",
              "      <td>670.000000</td>\n",
              "    </tr>\n",
              "    <tr>\n",
              "      <th>25%</th>\n",
              "      <td>2.000000</td>\n",
              "      <td>3.000000</td>\n",
              "      <td>1800.000000</td>\n",
              "    </tr>\n",
              "    <tr>\n",
              "      <th>50%</th>\n",
              "      <td>2.000000</td>\n",
              "      <td>5.000000</td>\n",
              "      <td>2500.000000</td>\n",
              "    </tr>\n",
              "    <tr>\n",
              "      <th>75%</th>\n",
              "      <td>3.000000</td>\n",
              "      <td>8.000000</td>\n",
              "      <td>3300.000000</td>\n",
              "    </tr>\n",
              "    <tr>\n",
              "      <th>max</th>\n",
              "      <td>3.000000</td>\n",
              "      <td>10.000000</td>\n",
              "      <td>30000.000000</td>\n",
              "    </tr>\n",
              "  </tbody>\n",
              "</table>\n",
              "</div>"
            ],
            "text/plain": [
              "            level  years_of_experience        salary\n",
              "count  760.000000           760.000000    760.000000\n",
              "mean     2.203947             5.234211   2839.484211\n",
              "std      0.718097             2.948462   2071.858144\n",
              "min      1.000000             1.000000    670.000000\n",
              "25%      2.000000             3.000000   1800.000000\n",
              "50%      2.000000             5.000000   2500.000000\n",
              "75%      3.000000             8.000000   3300.000000\n",
              "max      3.000000            10.000000  30000.000000"
            ]
          },
          "execution_count": 63,
          "metadata": {},
          "output_type": "execute_result"
        }
      ],
      "source": [
        "df.describe()"
      ]
    },
    {
      "cell_type": "code",
      "execution_count": null,
      "id": "35261c6e",
      "metadata": {
        "id": "35261c6e",
        "outputId": "54ff66d8-99e8-4b46-9b8a-a91dd502649e"
      },
      "outputs": [
        {
          "data": {
            "text/plain": [
              "(760, 5)"
            ]
          },
          "execution_count": 64,
          "metadata": {},
          "output_type": "execute_result"
        }
      ],
      "source": [
        "df.shape"
      ]
    },
    {
      "cell_type": "code",
      "execution_count": null,
      "id": "eacfdb65",
      "metadata": {
        "id": "eacfdb65",
        "outputId": "8f01e467-8fe7-42b4-874d-7986ce9f1a10"
      },
      "outputs": [
        {
          "data": {
            "text/plain": [
              "php           217\n",
              "js            181\n",
              ".net          105\n",
              "java           93\n",
              "python         37\n",
              "go             26\n",
              "c++            24\n",
              "node           19\n",
              "kotlin         15\n",
              "ruby           14\n",
              "swift           6\n",
              "rust            4\n",
              "flutter         4\n",
              "sql             2\n",
              "sap             2\n",
              "scala           2\n",
              "salesforce      1\n",
              "vue             1\n",
              "blockchain      1\n",
              "devops          1\n",
              "progress        1\n",
              "openedge        1\n",
              "pascal          1\n",
              "uipath          1\n",
              "unity           1\n",
              "Name: language, dtype: int64"
            ]
          },
          "execution_count": 65,
          "metadata": {},
          "output_type": "execute_result"
        }
      ],
      "source": [
        "df.language.value_counts()"
      ]
    },
    {
      "cell_type": "code",
      "execution_count": null,
      "id": "af8e3839",
      "metadata": {
        "id": "af8e3839",
        "outputId": "abf4d6f0-65ea-4765-cb37-674cd4cdafa1"
      },
      "outputs": [
        {
          "data": {
            "text/html": [
              "<div>\n",
              "<style scoped>\n",
              "    .dataframe tbody tr th:only-of-type {\n",
              "        vertical-align: middle;\n",
              "    }\n",
              "\n",
              "    .dataframe tbody tr th {\n",
              "        vertical-align: top;\n",
              "    }\n",
              "\n",
              "    .dataframe thead th {\n",
              "        text-align: right;\n",
              "    }\n",
              "</style>\n",
              "<table border=\"1\" class=\"dataframe\">\n",
              "  <thead>\n",
              "    <tr style=\"text-align: right;\">\n",
              "      <th></th>\n",
              "      <th>language</th>\n",
              "      <th>city</th>\n",
              "      <th>level</th>\n",
              "      <th>years_of_experience</th>\n",
              "      <th>salary</th>\n",
              "    </tr>\n",
              "  </thead>\n",
              "  <tbody>\n",
              "    <tr>\n",
              "      <th>2</th>\n",
              "      <td>php</td>\n",
              "      <td>UK</td>\n",
              "      <td>3.0</td>\n",
              "      <td>10</td>\n",
              "      <td>3000</td>\n",
              "    </tr>\n",
              "    <tr>\n",
              "      <th>3</th>\n",
              "      <td>.net</td>\n",
              "      <td>Danija</td>\n",
              "      <td>2.0</td>\n",
              "      <td>10</td>\n",
              "      <td>2700</td>\n",
              "    </tr>\n",
              "    <tr>\n",
              "      <th>4</th>\n",
              "      <td>php</td>\n",
              "      <td>Vilnius</td>\n",
              "      <td>3.0</td>\n",
              "      <td>10</td>\n",
              "      <td>2800</td>\n",
              "    </tr>\n",
              "    <tr>\n",
              "      <th>5</th>\n",
              "      <td>php</td>\n",
              "      <td>Vilnius</td>\n",
              "      <td>3.0</td>\n",
              "      <td>10</td>\n",
              "      <td>3400</td>\n",
              "    </tr>\n",
              "    <tr>\n",
              "      <th>6</th>\n",
              "      <td>java</td>\n",
              "      <td>Vilnius</td>\n",
              "      <td>3.0</td>\n",
              "      <td>10</td>\n",
              "      <td>2500</td>\n",
              "    </tr>\n",
              "    <tr>\n",
              "      <th>...</th>\n",
              "      <td>...</td>\n",
              "      <td>...</td>\n",
              "      <td>...</td>\n",
              "      <td>...</td>\n",
              "      <td>...</td>\n",
              "    </tr>\n",
              "    <tr>\n",
              "      <th>756</th>\n",
              "      <td>java</td>\n",
              "      <td>Vilnius</td>\n",
              "      <td>3.0</td>\n",
              "      <td>5</td>\n",
              "      <td>3100</td>\n",
              "    </tr>\n",
              "    <tr>\n",
              "      <th>757</th>\n",
              "      <td>java</td>\n",
              "      <td>Kaunas</td>\n",
              "      <td>2.0</td>\n",
              "      <td>5</td>\n",
              "      <td>2350</td>\n",
              "    </tr>\n",
              "    <tr>\n",
              "      <th>758</th>\n",
              "      <td>js</td>\n",
              "      <td>Vilnius</td>\n",
              "      <td>2.0</td>\n",
              "      <td>5</td>\n",
              "      <td>2500</td>\n",
              "    </tr>\n",
              "    <tr>\n",
              "      <th>759</th>\n",
              "      <td>.net</td>\n",
              "      <td>Kaunas</td>\n",
              "      <td>3.0</td>\n",
              "      <td>4</td>\n",
              "      <td>3000</td>\n",
              "    </tr>\n",
              "    <tr>\n",
              "      <th>761</th>\n",
              "      <td>js</td>\n",
              "      <td>Kaunas</td>\n",
              "      <td>2.0</td>\n",
              "      <td>4</td>\n",
              "      <td>2664</td>\n",
              "    </tr>\n",
              "  </tbody>\n",
              "</table>\n",
              "<p>596 rows × 5 columns</p>\n",
              "</div>"
            ],
            "text/plain": [
              "    language     city  level  years_of_experience  salary\n",
              "2        php       UK    3.0                   10    3000\n",
              "3       .net   Danija    2.0                   10    2700\n",
              "4        php  Vilnius    3.0                   10    2800\n",
              "5        php  Vilnius    3.0                   10    3400\n",
              "6       java  Vilnius    3.0                   10    2500\n",
              "..       ...      ...    ...                  ...     ...\n",
              "756     java  Vilnius    3.0                    5    3100\n",
              "757     java   Kaunas    2.0                    5    2350\n",
              "758       js  Vilnius    2.0                    5    2500\n",
              "759     .net   Kaunas    3.0                    4    3000\n",
              "761       js   Kaunas    2.0                    4    2664\n",
              "\n",
              "[596 rows x 5 columns]"
            ]
          },
          "execution_count": 66,
          "metadata": {},
          "output_type": "execute_result"
        }
      ],
      "source": [
        "allowed_languages = ['php','js','.net','java']\n",
        "df = df[df['language'].isin(allowed_languages)]\n",
        "df"
      ]
    },
    {
      "cell_type": "code",
      "execution_count": null,
      "id": "17a8881b",
      "metadata": {
        "id": "17a8881b",
        "outputId": "ad2b3614-8aeb-46f3-c141-f9f80a6fcffd"
      },
      "outputs": [
        {
          "data": {
            "text/plain": [
              "(596, 5)"
            ]
          },
          "execution_count": 67,
          "metadata": {},
          "output_type": "execute_result"
        }
      ],
      "source": [
        "df.shape"
      ]
    },
    {
      "cell_type": "code",
      "execution_count": null,
      "id": "d84004cf",
      "metadata": {
        "id": "d84004cf",
        "outputId": "6a2a5861-e5e0-48e8-a457-92091aab1e1a"
      },
      "outputs": [
        {
          "data": {
            "text/plain": [
              "Vilnius                     337\n",
              "Kaunas                      155\n",
              "Klaipėda                     11\n",
              "Vilniuje                      9\n",
              "JAV                           9\n",
              "UK                            8\n",
              "Kaune                         7\n",
              "Šiauliai                      7\n",
              "Vokietija                     6\n",
              "vilnius                       6\n",
              "Klaipeda                      4\n",
              "Danija                        4\n",
              "VILNIUS                       3\n",
              "Panevėžys                     2\n",
              "kaunas                        2\n",
              "Mažeikiai                     2\n",
              "Norvegija                     2\n",
              "Olandija                      2\n",
              "Šveicarija                    2\n",
              "Marijampole                   1\n",
              "Prancūzija                    1\n",
              "Rumsiskes                     1\n",
              "Birštonas                     1\n",
              "Jonava                        1\n",
              "Klaipėdoje                    1\n",
              "Pietų Afrikos Respublika      1\n",
              "KAUNAS                        1\n",
              "Baltarusija                   1\n",
              "Siauliai                      1\n",
              "VILNIUJE                      1\n",
              "Suomija                       1\n",
              "Panevezys                     1\n",
              "Alytus                        1\n",
              "Skandinavija                  1\n",
              "Tauragė                       1\n",
              "Vilniua                       1\n",
              "Vilniuj                       1\n",
              "Name: city, dtype: int64"
            ]
          },
          "execution_count": 68,
          "metadata": {},
          "output_type": "execute_result"
        }
      ],
      "source": [
        "df.city.value_counts()"
      ]
    },
    {
      "cell_type": "code",
      "execution_count": null,
      "id": "a418a908",
      "metadata": {
        "id": "a418a908",
        "outputId": "21bd24b9-3d83-443b-c053-60eefb1c4756"
      },
      "outputs": [
        {
          "data": {
            "text/plain": [
              "Vilnius                     358\n",
              "Kaunas                      165\n",
              "Klaipėda                     11\n",
              "JAV                           9\n",
              "UK                            8\n",
              "Šiauliai                      7\n",
              "Vokietija                     6\n",
              "Danija                        4\n",
              "Klaipeda                      4\n",
              "Norvegija                     2\n",
              "Olandija                      2\n",
              "Šveicarija                    2\n",
              "Panevėžys                     2\n",
              "Mažeikiai                     2\n",
              "Birštonas                     1\n",
              "Jonava                        1\n",
              "Siauliai                      1\n",
              "Pietų Afrikos Respublika      1\n",
              "Baltarusija                   1\n",
              "Prancūzija                    1\n",
              "Marijampole                   1\n",
              "Suomija                       1\n",
              "Panevezys                     1\n",
              "Alytus                        1\n",
              "Tauragė                       1\n",
              "Klaipėdoje                    1\n",
              "Skandinavija                  1\n",
              "Rumsiskes                     1\n",
              "Name: city, dtype: int64"
            ]
          },
          "execution_count": 69,
          "metadata": {},
          "output_type": "execute_result"
        }
      ],
      "source": [
        "vilnius_names = ['Vilniuj', 'Vilniua', 'VILNIUJE', 'VILNIUS', 'vilnius', 'Vilniuje']\n",
        "condition = df['city'].isin(vilnius_names)\n",
        "df.loc[condition, 'city'] = 'Vilnius'\n",
        "\n",
        "\n",
        "kaunas_names = ['KAUNAS', 'kaunas', 'Kaune']\n",
        "condition = df['city'].isin(kaunas_names)\n",
        "df.loc[condition, 'city'] = 'Kaunas'\n",
        "\n",
        "df.city.value_counts()"
      ]
    },
    {
      "cell_type": "code",
      "execution_count": null,
      "id": "3b6d6eec",
      "metadata": {
        "id": "3b6d6eec",
        "outputId": "855e7d84-cfce-4a87-d173-189751cd8d85"
      },
      "outputs": [
        {
          "data": {
            "text/plain": [
              "(523, 5)"
            ]
          },
          "execution_count": 70,
          "metadata": {},
          "output_type": "execute_result"
        }
      ],
      "source": [
        "allowed_cities = ['Vilnius', 'Kaunas']\n",
        "df = df[df['city'].isin(allowed_cities)]\n",
        "df.shape"
      ]
    },
    {
      "cell_type": "code",
      "execution_count": null,
      "id": "f5185b80",
      "metadata": {
        "id": "f5185b80",
        "outputId": "d06fa8f8-0a75-4b97-ac4a-7865d44c1af1"
      },
      "outputs": [
        {
          "data": {
            "text/html": [
              "<div>\n",
              "<style scoped>\n",
              "    .dataframe tbody tr th:only-of-type {\n",
              "        vertical-align: middle;\n",
              "    }\n",
              "\n",
              "    .dataframe tbody tr th {\n",
              "        vertical-align: top;\n",
              "    }\n",
              "\n",
              "    .dataframe thead th {\n",
              "        text-align: right;\n",
              "    }\n",
              "</style>\n",
              "<table border=\"1\" class=\"dataframe\">\n",
              "  <thead>\n",
              "    <tr style=\"text-align: right;\">\n",
              "      <th></th>\n",
              "      <th>language</th>\n",
              "      <th>city</th>\n",
              "      <th>level</th>\n",
              "      <th>years_of_experience</th>\n",
              "      <th>salary</th>\n",
              "    </tr>\n",
              "  </thead>\n",
              "  <tbody>\n",
              "    <tr>\n",
              "      <th>150</th>\n",
              "      <td>js</td>\n",
              "      <td>Vilnius</td>\n",
              "      <td>3.0</td>\n",
              "      <td>6</td>\n",
              "      <td>14000</td>\n",
              "    </tr>\n",
              "    <tr>\n",
              "      <th>704</th>\n",
              "      <td>js</td>\n",
              "      <td>Vilnius</td>\n",
              "      <td>3.0</td>\n",
              "      <td>7</td>\n",
              "      <td>8400</td>\n",
              "    </tr>\n",
              "    <tr>\n",
              "      <th>609</th>\n",
              "      <td>.net</td>\n",
              "      <td>Vilnius</td>\n",
              "      <td>3.0</td>\n",
              "      <td>10</td>\n",
              "      <td>8000</td>\n",
              "    </tr>\n",
              "    <tr>\n",
              "      <th>143</th>\n",
              "      <td>php</td>\n",
              "      <td>Vilnius</td>\n",
              "      <td>3.0</td>\n",
              "      <td>10</td>\n",
              "      <td>7500</td>\n",
              "    </tr>\n",
              "    <tr>\n",
              "      <th>735</th>\n",
              "      <td>php</td>\n",
              "      <td>Vilnius</td>\n",
              "      <td>3.0</td>\n",
              "      <td>9</td>\n",
              "      <td>7000</td>\n",
              "    </tr>\n",
              "    <tr>\n",
              "      <th>29</th>\n",
              "      <td>js</td>\n",
              "      <td>Vilnius</td>\n",
              "      <td>3.0</td>\n",
              "      <td>9</td>\n",
              "      <td>6000</td>\n",
              "    </tr>\n",
              "    <tr>\n",
              "      <th>306</th>\n",
              "      <td>php</td>\n",
              "      <td>Kaunas</td>\n",
              "      <td>3.0</td>\n",
              "      <td>9</td>\n",
              "      <td>5500</td>\n",
              "    </tr>\n",
              "    <tr>\n",
              "      <th>339</th>\n",
              "      <td>php</td>\n",
              "      <td>Vilnius</td>\n",
              "      <td>3.0</td>\n",
              "      <td>10</td>\n",
              "      <td>5500</td>\n",
              "    </tr>\n",
              "    <tr>\n",
              "      <th>738</th>\n",
              "      <td>js</td>\n",
              "      <td>Vilnius</td>\n",
              "      <td>3.0</td>\n",
              "      <td>10</td>\n",
              "      <td>5300</td>\n",
              "    </tr>\n",
              "    <tr>\n",
              "      <th>462</th>\n",
              "      <td>js</td>\n",
              "      <td>Vilnius</td>\n",
              "      <td>3.0</td>\n",
              "      <td>10</td>\n",
              "      <td>5261</td>\n",
              "    </tr>\n",
              "    <tr>\n",
              "      <th>235</th>\n",
              "      <td>php</td>\n",
              "      <td>Kaunas</td>\n",
              "      <td>3.0</td>\n",
              "      <td>10</td>\n",
              "      <td>5000</td>\n",
              "    </tr>\n",
              "    <tr>\n",
              "      <th>195</th>\n",
              "      <td>php</td>\n",
              "      <td>Vilnius</td>\n",
              "      <td>3.0</td>\n",
              "      <td>10</td>\n",
              "      <td>5000</td>\n",
              "    </tr>\n",
              "    <tr>\n",
              "      <th>56</th>\n",
              "      <td>java</td>\n",
              "      <td>Kaunas</td>\n",
              "      <td>3.0</td>\n",
              "      <td>10</td>\n",
              "      <td>5000</td>\n",
              "    </tr>\n",
              "    <tr>\n",
              "      <th>185</th>\n",
              "      <td>php</td>\n",
              "      <td>Vilnius</td>\n",
              "      <td>3.0</td>\n",
              "      <td>10</td>\n",
              "      <td>5000</td>\n",
              "    </tr>\n",
              "    <tr>\n",
              "      <th>385</th>\n",
              "      <td>java</td>\n",
              "      <td>Vilnius</td>\n",
              "      <td>3.0</td>\n",
              "      <td>10</td>\n",
              "      <td>5000</td>\n",
              "    </tr>\n",
              "    <tr>\n",
              "      <th>165</th>\n",
              "      <td>java</td>\n",
              "      <td>Vilnius</td>\n",
              "      <td>3.0</td>\n",
              "      <td>5</td>\n",
              "      <td>5000</td>\n",
              "    </tr>\n",
              "    <tr>\n",
              "      <th>522</th>\n",
              "      <td>php</td>\n",
              "      <td>Kaunas</td>\n",
              "      <td>3.0</td>\n",
              "      <td>9</td>\n",
              "      <td>5000</td>\n",
              "    </tr>\n",
              "    <tr>\n",
              "      <th>241</th>\n",
              "      <td>php</td>\n",
              "      <td>Vilnius</td>\n",
              "      <td>3.0</td>\n",
              "      <td>10</td>\n",
              "      <td>5000</td>\n",
              "    </tr>\n",
              "    <tr>\n",
              "      <th>606</th>\n",
              "      <td>js</td>\n",
              "      <td>Vilnius</td>\n",
              "      <td>3.0</td>\n",
              "      <td>9</td>\n",
              "      <td>4660</td>\n",
              "    </tr>\n",
              "    <tr>\n",
              "      <th>115</th>\n",
              "      <td>java</td>\n",
              "      <td>Kaunas</td>\n",
              "      <td>3.0</td>\n",
              "      <td>10</td>\n",
              "      <td>4500</td>\n",
              "    </tr>\n",
              "  </tbody>\n",
              "</table>\n",
              "</div>"
            ],
            "text/plain": [
              "    language     city  level  years_of_experience  salary\n",
              "150       js  Vilnius    3.0                    6   14000\n",
              "704       js  Vilnius    3.0                    7    8400\n",
              "609     .net  Vilnius    3.0                   10    8000\n",
              "143      php  Vilnius    3.0                   10    7500\n",
              "735      php  Vilnius    3.0                    9    7000\n",
              "29        js  Vilnius    3.0                    9    6000\n",
              "306      php   Kaunas    3.0                    9    5500\n",
              "339      php  Vilnius    3.0                   10    5500\n",
              "738       js  Vilnius    3.0                   10    5300\n",
              "462       js  Vilnius    3.0                   10    5261\n",
              "235      php   Kaunas    3.0                   10    5000\n",
              "195      php  Vilnius    3.0                   10    5000\n",
              "56      java   Kaunas    3.0                   10    5000\n",
              "185      php  Vilnius    3.0                   10    5000\n",
              "385     java  Vilnius    3.0                   10    5000\n",
              "165     java  Vilnius    3.0                    5    5000\n",
              "522      php   Kaunas    3.0                    9    5000\n",
              "241      php  Vilnius    3.0                   10    5000\n",
              "606       js  Vilnius    3.0                    9    4660\n",
              "115     java   Kaunas    3.0                   10    4500"
            ]
          },
          "execution_count": 71,
          "metadata": {},
          "output_type": "execute_result"
        }
      ],
      "source": [
        "df_sortby_salary = df.sort_values(by='salary',ascending=False)\n",
        "df_sortby_salary.head(20)"
      ]
    },
    {
      "cell_type": "code",
      "execution_count": null,
      "id": "ae78cd9a",
      "metadata": {
        "id": "ae78cd9a",
        "outputId": "37d97e15-476f-4413-96ad-15d4034de24b"
      },
      "outputs": [
        {
          "data": {
            "text/plain": [
              "<matplotlib.collections.PathCollection at 0x7fc9b01162e0>"
            ]
          },
          "execution_count": 72,
          "metadata": {},
          "output_type": "execute_result"
        },
        {
          "data": {
            "image/png": "[encoded data removed]",
            "text/plain": [
              "<Figure size 640x480 with 1 Axes>"
            ]
          },
          "metadata": {},
          "output_type": "display_data"
        }
      ],
      "source": [
        "X = df.iloc[:,-2:-1]\n",
        "y = df.iloc[:,-1].values\n",
        "plt.xlabel('Years of experience')\n",
        "plt.ylabel('Salary')\n",
        "plt.scatter(X, y)"
      ]
    },
    {
      "cell_type": "code",
      "execution_count": null,
      "id": "5aac9cce",
      "metadata": {
        "id": "5aac9cce",
        "outputId": "256835b3-6aae-477c-e10f-ebdbed5db9dc"
      },
      "outputs": [
        {
          "data": {
            "text/html": [
              "<div>\n",
              "<style scoped>\n",
              "    .dataframe tbody tr th:only-of-type {\n",
              "        vertical-align: middle;\n",
              "    }\n",
              "\n",
              "    .dataframe tbody tr th {\n",
              "        vertical-align: top;\n",
              "    }\n",
              "\n",
              "    .dataframe thead th {\n",
              "        text-align: right;\n",
              "    }\n",
              "</style>\n",
              "<table border=\"1\" class=\"dataframe\">\n",
              "  <thead>\n",
              "    <tr style=\"text-align: right;\">\n",
              "      <th></th>\n",
              "      <th>language</th>\n",
              "      <th>city</th>\n",
              "      <th>level</th>\n",
              "      <th>years_of_experience</th>\n",
              "      <th>salary</th>\n",
              "    </tr>\n",
              "  </thead>\n",
              "  <tbody>\n",
              "    <tr>\n",
              "      <th>4</th>\n",
              "      <td>php</td>\n",
              "      <td>Vilnius</td>\n",
              "      <td>3.0</td>\n",
              "      <td>10</td>\n",
              "      <td>2800</td>\n",
              "    </tr>\n",
              "    <tr>\n",
              "      <th>5</th>\n",
              "      <td>php</td>\n",
              "      <td>Vilnius</td>\n",
              "      <td>3.0</td>\n",
              "      <td>10</td>\n",
              "      <td>3400</td>\n",
              "    </tr>\n",
              "    <tr>\n",
              "      <th>6</th>\n",
              "      <td>java</td>\n",
              "      <td>Vilnius</td>\n",
              "      <td>3.0</td>\n",
              "      <td>10</td>\n",
              "      <td>2500</td>\n",
              "    </tr>\n",
              "    <tr>\n",
              "      <th>7</th>\n",
              "      <td>php</td>\n",
              "      <td>Kaunas</td>\n",
              "      <td>2.0</td>\n",
              "      <td>4</td>\n",
              "      <td>2100</td>\n",
              "    </tr>\n",
              "    <tr>\n",
              "      <th>9</th>\n",
              "      <td>.net</td>\n",
              "      <td>Vilnius</td>\n",
              "      <td>1.0</td>\n",
              "      <td>1</td>\n",
              "      <td>1181</td>\n",
              "    </tr>\n",
              "    <tr>\n",
              "      <th>...</th>\n",
              "      <td>...</td>\n",
              "      <td>...</td>\n",
              "      <td>...</td>\n",
              "      <td>...</td>\n",
              "      <td>...</td>\n",
              "    </tr>\n",
              "    <tr>\n",
              "      <th>756</th>\n",
              "      <td>java</td>\n",
              "      <td>Vilnius</td>\n",
              "      <td>3.0</td>\n",
              "      <td>5</td>\n",
              "      <td>3100</td>\n",
              "    </tr>\n",
              "    <tr>\n",
              "      <th>757</th>\n",
              "      <td>java</td>\n",
              "      <td>Kaunas</td>\n",
              "      <td>2.0</td>\n",
              "      <td>5</td>\n",
              "      <td>2350</td>\n",
              "    </tr>\n",
              "    <tr>\n",
              "      <th>758</th>\n",
              "      <td>js</td>\n",
              "      <td>Vilnius</td>\n",
              "      <td>2.0</td>\n",
              "      <td>5</td>\n",
              "      <td>2500</td>\n",
              "    </tr>\n",
              "    <tr>\n",
              "      <th>759</th>\n",
              "      <td>.net</td>\n",
              "      <td>Kaunas</td>\n",
              "      <td>3.0</td>\n",
              "      <td>4</td>\n",
              "      <td>3000</td>\n",
              "    </tr>\n",
              "    <tr>\n",
              "      <th>761</th>\n",
              "      <td>js</td>\n",
              "      <td>Kaunas</td>\n",
              "      <td>2.0</td>\n",
              "      <td>4</td>\n",
              "      <td>2664</td>\n",
              "    </tr>\n",
              "  </tbody>\n",
              "</table>\n",
              "<p>518 rows × 5 columns</p>\n",
              "</div>"
            ],
            "text/plain": [
              "    language     city  level  years_of_experience  salary\n",
              "4        php  Vilnius    3.0                   10    2800\n",
              "5        php  Vilnius    3.0                   10    3400\n",
              "6       java  Vilnius    3.0                   10    2500\n",
              "7        php   Kaunas    2.0                    4    2100\n",
              "9       .net  Vilnius    1.0                    1    1181\n",
              "..       ...      ...    ...                  ...     ...\n",
              "756     java  Vilnius    3.0                    5    3100\n",
              "757     java   Kaunas    2.0                    5    2350\n",
              "758       js  Vilnius    2.0                    5    2500\n",
              "759     .net   Kaunas    3.0                    4    3000\n",
              "761       js   Kaunas    2.0                    4    2664\n",
              "\n",
              "[518 rows x 5 columns]"
            ]
          },
          "execution_count": 73,
          "metadata": {},
          "output_type": "execute_result"
        }
      ],
      "source": [
        "df = df[df['salary'] <= 6000]\n",
        "df"
      ]
    },
    {
      "cell_type": "code",
      "execution_count": null,
      "id": "4c94b9e6",
      "metadata": {
        "id": "4c94b9e6",
        "outputId": "2436292b-558c-4f0f-9641-2eedd1e36ade"
      },
      "outputs": [
        {
          "data": {
            "text/plain": [
              "<matplotlib.collections.PathCollection at 0x7fca00958f10>"
            ]
          },
          "execution_count": 74,
          "metadata": {},
          "output_type": "execute_result"
        },
        {
          "data": {
            "image/png": "[encoded data removed]",
            "text/plain": [
              "<Figure size 640x480 with 1 Axes>"
            ]
          },
          "metadata": {},
          "output_type": "display_data"
        }
      ],
      "source": [
        "x = df.iloc[:, -2:-1]\n",
        "y = df.iloc[:,-1].values\n",
        "plt.xlabel('Years of experience')\n",
        "plt.ylabel('Salary')\n",
        "plt.scatter(x, y)"
      ]
    },
    {
      "cell_type": "code",
      "execution_count": null,
      "id": "181ee177",
      "metadata": {
        "id": "181ee177",
        "outputId": "f53f6d15-e38d-4e34-fb0a-5919517f10be"
      },
      "outputs": [
        {
          "data": {
            "text/html": [
              "<div>\n",
              "<style scoped>\n",
              "    .dataframe tbody tr th:only-of-type {\n",
              "        vertical-align: middle;\n",
              "    }\n",
              "\n",
              "    .dataframe tbody tr th {\n",
              "        vertical-align: top;\n",
              "    }\n",
              "\n",
              "    .dataframe thead th {\n",
              "        text-align: right;\n",
              "    }\n",
              "</style>\n",
              "<table border=\"1\" class=\"dataframe\">\n",
              "  <thead>\n",
              "    <tr style=\"text-align: right;\">\n",
              "      <th></th>\n",
              "      <th>level</th>\n",
              "      <th>years_of_experience</th>\n",
              "      <th>salary</th>\n",
              "      <th>lang_.net</th>\n",
              "      <th>lang_java</th>\n",
              "      <th>lang_js</th>\n",
              "      <th>lang_php</th>\n",
              "      <th>city_Kaunas</th>\n",
              "      <th>city_Vilnius</th>\n",
              "    </tr>\n",
              "  </thead>\n",
              "  <tbody>\n",
              "    <tr>\n",
              "      <th>4</th>\n",
              "      <td>3.0</td>\n",
              "      <td>10</td>\n",
              "      <td>2800</td>\n",
              "      <td>0</td>\n",
              "      <td>0</td>\n",
              "      <td>0</td>\n",
              "      <td>1</td>\n",
              "      <td>0</td>\n",
              "      <td>1</td>\n",
              "    </tr>\n",
              "    <tr>\n",
              "      <th>5</th>\n",
              "      <td>3.0</td>\n",
              "      <td>10</td>\n",
              "      <td>3400</td>\n",
              "      <td>0</td>\n",
              "      <td>0</td>\n",
              "      <td>0</td>\n",
              "      <td>1</td>\n",
              "      <td>0</td>\n",
              "      <td>1</td>\n",
              "    </tr>\n",
              "    <tr>\n",
              "      <th>6</th>\n",
              "      <td>3.0</td>\n",
              "      <td>10</td>\n",
              "      <td>2500</td>\n",
              "      <td>0</td>\n",
              "      <td>1</td>\n",
              "      <td>0</td>\n",
              "      <td>0</td>\n",
              "      <td>0</td>\n",
              "      <td>1</td>\n",
              "    </tr>\n",
              "    <tr>\n",
              "      <th>7</th>\n",
              "      <td>2.0</td>\n",
              "      <td>4</td>\n",
              "      <td>2100</td>\n",
              "      <td>0</td>\n",
              "      <td>0</td>\n",
              "      <td>0</td>\n",
              "      <td>1</td>\n",
              "      <td>1</td>\n",
              "      <td>0</td>\n",
              "    </tr>\n",
              "    <tr>\n",
              "      <th>9</th>\n",
              "      <td>1.0</td>\n",
              "      <td>1</td>\n",
              "      <td>1181</td>\n",
              "      <td>1</td>\n",
              "      <td>0</td>\n",
              "      <td>0</td>\n",
              "      <td>0</td>\n",
              "      <td>0</td>\n",
              "      <td>1</td>\n",
              "    </tr>\n",
              "    <tr>\n",
              "      <th>10</th>\n",
              "      <td>3.0</td>\n",
              "      <td>8</td>\n",
              "      <td>3500</td>\n",
              "      <td>0</td>\n",
              "      <td>0</td>\n",
              "      <td>0</td>\n",
              "      <td>1</td>\n",
              "      <td>0</td>\n",
              "      <td>1</td>\n",
              "    </tr>\n",
              "    <tr>\n",
              "      <th>11</th>\n",
              "      <td>2.0</td>\n",
              "      <td>2</td>\n",
              "      <td>1800</td>\n",
              "      <td>1</td>\n",
              "      <td>0</td>\n",
              "      <td>0</td>\n",
              "      <td>0</td>\n",
              "      <td>1</td>\n",
              "      <td>0</td>\n",
              "    </tr>\n",
              "    <tr>\n",
              "      <th>12</th>\n",
              "      <td>1.0</td>\n",
              "      <td>5</td>\n",
              "      <td>1800</td>\n",
              "      <td>0</td>\n",
              "      <td>0</td>\n",
              "      <td>0</td>\n",
              "      <td>1</td>\n",
              "      <td>1</td>\n",
              "      <td>0</td>\n",
              "    </tr>\n",
              "    <tr>\n",
              "      <th>15</th>\n",
              "      <td>2.0</td>\n",
              "      <td>5</td>\n",
              "      <td>2700</td>\n",
              "      <td>0</td>\n",
              "      <td>0</td>\n",
              "      <td>0</td>\n",
              "      <td>1</td>\n",
              "      <td>0</td>\n",
              "      <td>1</td>\n",
              "    </tr>\n",
              "    <tr>\n",
              "      <th>17</th>\n",
              "      <td>2.0</td>\n",
              "      <td>10</td>\n",
              "      <td>2000</td>\n",
              "      <td>0</td>\n",
              "      <td>0</td>\n",
              "      <td>1</td>\n",
              "      <td>0</td>\n",
              "      <td>1</td>\n",
              "      <td>0</td>\n",
              "    </tr>\n",
              "  </tbody>\n",
              "</table>\n",
              "</div>"
            ],
            "text/plain": [
              "    level  years_of_experience  salary  lang_.net  lang_java  lang_js  \\\n",
              "4     3.0                   10    2800          0          0        0   \n",
              "5     3.0                   10    3400          0          0        0   \n",
              "6     3.0                   10    2500          0          1        0   \n",
              "7     2.0                    4    2100          0          0        0   \n",
              "9     1.0                    1    1181          1          0        0   \n",
              "10    3.0                    8    3500          0          0        0   \n",
              "11    2.0                    2    1800          1          0        0   \n",
              "12    1.0                    5    1800          0          0        0   \n",
              "15    2.0                    5    2700          0          0        0   \n",
              "17    2.0                   10    2000          0          0        1   \n",
              "\n",
              "    lang_php  city_Kaunas  city_Vilnius  \n",
              "4          1            0             1  \n",
              "5          1            0             1  \n",
              "6          0            0             1  \n",
              "7          1            1             0  \n",
              "9          0            0             1  \n",
              "10         1            0             1  \n",
              "11         0            1             0  \n",
              "12         1            1             0  \n",
              "15         1            0             1  \n",
              "17         0            1             0  "
            ]
          },
          "execution_count": 75,
          "metadata": {},
          "output_type": "execute_result"
        }
      ],
      "source": [
        "one_hot = pd.get_dummies(df['language'], prefix='lang')\n",
        "df = df.join(one_hot)\n",
        "df = df.drop('language', axis=1)\n",
        "\n",
        "one_hot = pd.get_dummies(df['city'], prefix='city')\n",
        "df = df.join(one_hot)\n",
        "df = df.drop('city', axis=1)\n",
        "\n",
        "df.head(10)"
      ]
    },
    {
      "cell_type": "code",
      "execution_count": null,
      "id": "5b632cec",
      "metadata": {
        "id": "5b632cec",
        "outputId": "06a516e6-cc32-46ad-b6bf-c13b8af2153a"
      },
      "outputs": [
        {
          "data": {
            "image/png": "[encoded data removed]",
            "text/plain": [
              "<Figure size 640x480 with 2 Axes>"
            ]
          },
          "metadata": {},
          "output_type": "display_data"
        }
      ],
      "source": [
        "sns.heatmap(df.corr(), annot=True);"
      ]
    },
    {
      "cell_type": "code",
      "execution_count": null,
      "id": "92c545fd",
      "metadata": {
        "id": "92c545fd",
        "outputId": "0eec50fe-2580-43b9-e896-0ebb1a6bda29"
      },
      "outputs": [
        {
          "data": {
            "text/plain": [
              "array([[ 3., 10.],\n",
              "       [ 3., 10.],\n",
              "       [ 3., 10.],\n",
              "       [ 2.,  4.],\n",
              "       [ 1.,  1.]])"
            ]
          },
          "execution_count": 80,
          "metadata": {},
          "output_type": "execute_result"
        }
      ],
      "source": [
        "x = df.iloc[:,0:2].values  # get all rows with all columns except the last one\n",
        "y = df.iloc[:,2].values   # get all rows with only the last column\n",
        "x[0:5]"
      ]
    },
    {
      "cell_type": "code",
      "execution_count": null,
      "id": "85b5aaa6",
      "metadata": {
        "id": "85b5aaa6",
        "outputId": "2773925f-4cc9-4e68-8294-a1cb78578e93"
      },
      "outputs": [
        {
          "data": {
            "text/plain": [
              "array([2800, 3400, 2500, 2100, 1181])"
            ]
          },
          "execution_count": 81,
          "metadata": {},
          "output_type": "execute_result"
        }
      ],
      "source": [
        "y[0:5]"
      ]
    },
    {
      "cell_type": "code",
      "execution_count": null,
      "id": "cfd76893",
      "metadata": {
        "id": "cfd76893",
        "outputId": "56d22713-55ee-4236-aca2-174b6bd7459a"
      },
      "outputs": [
        {
          "data": {
            "text/plain": [
              "(414, 2)"
            ]
          },
          "execution_count": 82,
          "metadata": {},
          "output_type": "execute_result"
        }
      ],
      "source": [
        "from sklearn.model_selection import train_test_split\n",
        "x_train,x_test,y_train,y_test = train_test_split(x,y,test_size=0.2,random_state=0)\n",
        "x_train.shape"
      ]
    },
    {
      "cell_type": "code",
      "execution_count": null,
      "id": "dd55fdfe",
      "metadata": {
        "id": "dd55fdfe"
      },
      "outputs": [],
      "source": [
        "from sklearn.linear_model import LinearRegression\n",
        "model = LinearRegression()"
      ]
    },
    {
      "cell_type": "code",
      "execution_count": null,
      "id": "d343d545",
      "metadata": {
        "id": "d343d545",
        "outputId": "ed4aa0b2-92f9-47c4-f726-4ee0e85e3000"
      },
      "outputs": [
        {
          "data": {
            "text/plain": [
              "LinearRegression()"
            ]
          },
          "execution_count": 84,
          "metadata": {},
          "output_type": "execute_result"
        }
      ],
      "source": [
        "model.fit(x_train, y_train)"
      ]
    },
    {
      "cell_type": "code",
      "execution_count": null,
      "id": "c4b9f1a9",
      "metadata": {
        "id": "c4b9f1a9",
        "outputId": "0f0561d8-f50f-4588-f67b-92397469acb9"
      },
      "outputs": [
        {
          "data": {
            "text/plain": [
              "array([1199.71172545, 3090.85570562, 1199.71172545, 2446.32022189,\n",
              "       1199.71172545, 3191.20120774, 2245.62921766, 1199.71172545,\n",
              "       2647.01122613, 2245.62921766, 2044.93821342, 1300.05722757,\n",
              "       3592.58321622, 3191.20120774, 2145.28371554, 1199.71172545,\n",
              "       2647.01122613, 3291.54670986, 3191.20120774, 2044.93821342,\n",
              "       3391.89221198, 2044.93821342, 3191.20120774, 3090.85570562,\n",
              "       1199.71172545, 3090.85570562, 3592.58321622, 1199.71172545,\n",
              "       2245.62921766, 3592.58321622, 2145.28371554, 2145.28371554,\n",
              "       3391.89221198, 1199.71172545, 3592.58321622, 2145.28371554,\n",
              "       2145.28371554, 2245.62921766, 3592.58321622, 1400.40272969,\n",
              "       2145.28371554, 2145.28371554, 3391.89221198, 3592.58321622,\n",
              "       1944.5927113 , 2847.70223037, 1300.05722757, 1199.71172545,\n",
              "       1199.71172545, 3492.2377141 , 1300.05722757, 1944.5927113 ,\n",
              "       1300.05722757, 2446.32022189, 2245.62921766, 3592.58321622,\n",
              "       1300.05722757, 2446.32022189, 2145.28371554, 1300.05722757,\n",
              "       2145.28371554, 3592.58321622, 3592.58321622, 1199.71172545,\n",
              "       1500.74823181, 1944.5927113 , 2245.62921766, 2446.32022189,\n",
              "       1300.05722757, 2446.32022189, 3391.89221198, 3191.20120774,\n",
              "       2546.66572401, 2345.97471978, 2044.93821342, 3391.89221198,\n",
              "       2245.62921766, 2145.28371554, 2044.93821342, 3592.58321622,\n",
              "       2890.16470138, 2345.97471978, 2145.28371554, 3592.58321622,\n",
              "       2847.70223037, 3391.89221198, 2345.97471978, 2245.62921766,\n",
              "       3492.2377141 , 2446.32022189, 2145.28371554, 2847.70223037,\n",
              "       3592.58321622, 2345.97471978, 3592.58321622, 2345.97471978,\n",
              "       2345.97471978, 3291.54670986, 2245.62921766, 2044.93821342,\n",
              "       3291.54670986, 3492.2377141 , 2245.62921766, 2245.62921766])"
            ]
          },
          "execution_count": 85,
          "metadata": {},
          "output_type": "execute_result"
        }
      ],
      "source": [
        "y_pred = model.predict(x_test)\n",
        "y_pred"
      ]
    },
    {
      "cell_type": "code",
      "execution_count": null,
      "id": "c928c03f",
      "metadata": {
        "id": "c928c03f",
        "outputId": "c6311aa1-86a0-44a3-cad3-48745e6f0a57"
      },
      "outputs": [
        {
          "data": {
            "text/plain": [
              "array([3793.27422045, 1199.71172545])"
            ]
          },
          "execution_count": 86,
          "metadata": {},
          "output_type": "execute_result"
        }
      ],
      "source": [
        "salaries = model.predict([[3, 12], [1, 1]])\n",
        "salaries"
      ]
    },
    {
      "cell_type": "code",
      "execution_count": null,
      "id": "1dbfbf6b",
      "metadata": {
        "id": "1dbfbf6b",
        "outputId": "fbfd5f7f-3678-4cea-e13e-d41a5591219d"
      },
      "outputs": [
        {
          "name": "stdout",
          "output_type": "stream",
          "text": [
            "R2 Score: 0.6311227637903979 (63.11%)\n"
          ]
        }
      ],
      "source": [
        "from sklearn.metrics import r2_score\n",
        "r2 = r2_score(y_test, y_pred)\n",
        "\n",
        "print(f\"R2 Score: {r2} ({r2:.2%})\")"
      ]
    },
    {
      "cell_type": "code",
      "execution_count": null,
      "id": "210ce124",
      "metadata": {
        "id": "210ce124"
      },
      "outputs": [],
      "source": []
    }
  ],
  "metadata": {
    "kernelspec": {
      "display_name": "Python 3 (ipykernel)",
      "language": "python",
      "name": "python3"
    },
    "language_info": {
      "codemirror_mode": {
        "name": "ipython",
        "version": 3
      },
      "file_extension": ".py",
      "mimetype": "text/x-python",
      "name": "python",
      "nbconvert_exporter": "python",
      "pygments_lexer": "ipython3",
      "version": "3.9.13"
    },
    "colab": {
      "provenance": [],
      "include_colab_link": true
    }
  },
  "nbformat": 4,
  "nbformat_minor": 5
}