{
 "cells": [
  {
   "cell_type": "code",
   "execution_count": null,
   "id": "53286e67",
   "metadata": {},
   "outputs": [],
   "source": [
    "fruits =[\"apple\",\"kiwi\",\"mango\"]"
   ]
  },
  {
   "cell_type": "code",
   "execution_count": 5,
   "id": "d58b2dce",
   "metadata": {},
   "outputs": [
    {
     "name": "stdout",
     "output_type": "stream",
     "text": [
      "found it \n"
     ]
    }
   ],
   "source": [
    "if \"kiwi\" in fruits:\n",
    "    print(\"found it \")"
   ]
  },
  {
   "cell_type": "code",
   "execution_count": 6,
   "id": "3b650259",
   "metadata": {},
   "outputs": [],
   "source": [
    "fruits[2]=\"Pear\""
   ]
  },
  {
   "cell_type": "code",
   "execution_count": 39,
   "id": "8c5c3267",
   "metadata": {},
   "outputs": [
    {
     "name": "stdout",
     "output_type": "stream",
     "text": [
      "[]\n"
     ]
    }
   ],
   "source": [
    "print(fruits)"
   ]
  },
  {
   "cell_type": "code",
   "execution_count": 40,
   "id": "6011dd63",
   "metadata": {},
   "outputs": [],
   "source": [
    "fruits =[\"apple\",\"kiwi\",\"mango\"]"
   ]
  },
  {
   "cell_type": "code",
   "execution_count": 41,
   "id": "d074e4ea",
   "metadata": {},
   "outputs": [
    {
     "data": {
      "text/plain": [
       "['apple', 'kiwi', 'mango']"
      ]
     },
     "execution_count": 41,
     "metadata": {},
     "output_type": "execute_result"
    }
   ],
   "source": [
    "fruits"
   ]
  },
  {
   "cell_type": "code",
   "execution_count": 51,
   "id": "c36e96b3",
   "metadata": {},
   "outputs": [
    {
     "name": "stdout",
     "output_type": "stream",
     "text": [
      "apple\n",
      "banana\n",
      "cherry\n",
      "kiwi\n",
      "mango\n"
     ]
    }
   ],
   "source": [
    "fruits = [\"apple\", \"banana\", \"cherry\", \"kiwi\", \"mango\"]\n",
    "newList =[]\n",
    "for fruit in fruits:\n",
    "    if fruit ==\"kiwi\":\n",
    "       newList = fruits.copy()\n"
   ]
  },
  {
   "cell_type": "code",
   "execution_count": 52,
   "id": "2c1e715b",
   "metadata": {},
   "outputs": [
    {
     "data": {
      "text/plain": [
       "['apple', 'banana', 'cherry', 'kiwi', 'mango']"
      ]
     },
     "execution_count": 52,
     "metadata": {},
     "output_type": "execute_result"
    }
   ],
   "source": [
    "newList"
   ]
  },
  {
   "cell_type": "code",
   "execution_count": 53,
   "id": "619033b4",
   "metadata": {},
   "outputs": [
    {
     "data": {
      "text/plain": [
       "['cherry', 'kiwi']"
      ]
     },
     "execution_count": 53,
     "metadata": {},
     "output_type": "execute_result"
    }
   ],
   "source": [
    "newList[2:4]"
   ]
  },
  {
   "cell_type": "code",
   "execution_count": 7,
   "id": "2a690bf7",
   "metadata": {},
   "outputs": [
    {
     "name": "stdout",
     "output_type": "stream",
     "text": [
      "False\n"
     ]
    }
   ],
   "source": [
    "x = lambda a: a ==\"b\"\n",
    "print(x(\"w\"))"
   ]
  },
  {
   "cell_type": "code",
   "execution_count": 16,
   "id": "bf51aaa3",
   "metadata": {},
   "outputs": [
    {
     "name": "stdout",
     "output_type": "stream",
     "text": [
      "Hello whats up samHere is your car info jeep 2024\n"
     ]
    }
   ],
   "source": [
    "class Cars:\n",
    "    def __init__(self,brand,year):\n",
    "        self.brand = brand\n",
    "        self.year = year\n",
    "    def greetings(self,name):\n",
    "        return \"Hello whats up \" + name + 'Here is your car info ' + self.brand + ' ' + str(self.year)\n",
    "x = Cars(\"jeep\",2024)\n",
    "print(x.greetings(\"sam\"))"
   ]
  },
  {
   "cell_type": "code",
   "execution_count": null,
   "id": "28226d11",
   "metadata": {},
   "outputs": [],
   "source": []
  }
 ],
 "metadata": {
  "kernelspec": {
   "display_name": "Python 3 (ipykernel)",
   "language": "python",
   "name": "python3"
  },
  "language_info": {
   "codemirror_mode": {
    "name": "ipython",
    "version": 3
   },
   "file_extension": ".py",
   "mimetype": "text/x-python",
   "name": "python",
   "nbconvert_exporter": "python",
   "pygments_lexer": "ipython3",
   "version": "3.9.13"
  }
 },
 "nbformat": 4,
 "nbformat_minor": 5
}
