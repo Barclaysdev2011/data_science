{
  "cells": [
    {
      "cell_type": "markdown",
      "metadata": {
        "id": "view-in-github",
        "colab_type": "text"
      },
      "source": [
        "<a href=\"https://colab.research.google.com/github/Barclaysdev2011/data_science/blob/main/churnPredictionfinalProject_(1).ipynb\" target=\"_parent\"><img src=\"https://colab.research.google.com/assets/colab-badge.svg\" alt=\"Open In Colab\"/></a>"
      ]
    },
    {
      "cell_type": "code",
      "execution_count": null,
      "metadata": {
        "id": "P7TBF_54f2JN",
        "outputId": "7f518477-9ad8-4f7a-bb33-757274cf6281"
      },
      "outputs": [
        {
          "name": "stdout",
          "output_type": "stream",
          "text": [
            "Requirement already satisfied: boto3 in /opt/conda/lib/python3.11/site-packages (1.34.162)\n",
            "Requirement already satisfied: pandas in /opt/conda/lib/python3.11/site-packages (2.2.3)\n",
            "Requirement already satisfied: openpyxl in /opt/conda/lib/python3.11/site-packages (3.1.5)\n",
            "Requirement already satisfied: botocore<1.35.0,>=1.34.162 in /opt/conda/lib/python3.11/site-packages (from boto3) (1.34.162)\n",
            "Requirement already satisfied: jmespath<2.0.0,>=0.7.1 in /opt/conda/lib/python3.11/site-packages (from boto3) (1.0.1)\n",
            "Requirement already satisfied: s3transfer<0.11.0,>=0.10.0 in /opt/conda/lib/python3.11/site-packages (from boto3) (0.10.3)\n",
            "Requirement already satisfied: numpy>=1.23.2 in /opt/conda/lib/python3.11/site-packages (from pandas) (1.26.4)\n",
            "Requirement already satisfied: python-dateutil>=2.8.2 in /opt/conda/lib/python3.11/site-packages (from pandas) (2.9.0)\n",
            "Requirement already satisfied: pytz>=2020.1 in /opt/conda/lib/python3.11/site-packages (from pandas) (2023.3)\n",
            "Requirement already satisfied: tzdata>=2022.7 in /opt/conda/lib/python3.11/site-packages (from pandas) (2024.2)\n",
            "Requirement already satisfied: et-xmlfile in /opt/conda/lib/python3.11/site-packages (from openpyxl) (2.0.0)\n",
            "Requirement already satisfied: urllib3!=2.2.0,<3,>=1.25.4 in /opt/conda/lib/python3.11/site-packages (from botocore<1.35.0,>=1.34.162->boto3) (1.26.19)\n",
            "Requirement already satisfied: six>=1.5 in /opt/conda/lib/python3.11/site-packages (from python-dateutil>=2.8.2->pandas) (1.16.0)\n"
          ]
        }
      ],
      "source": [
        "!pip install boto3 pandas openpyxl"
      ]
    },
    {
      "cell_type": "code",
      "execution_count": null,
      "metadata": {
        "id": "I4N5mDqwlZoj",
        "outputId": "b02a304a-5de6-43d3-c0b5-6b4a865f9c9b"
      },
      "outputs": [
        {
          "name": "stderr",
          "output_type": "stream",
          "text": [
            "/opt/conda/lib/python3.11/site-packages/openpyxl/worksheet/_reader.py:329: UserWarning: Unknown extension is not supported and will be removed\n",
            "  warn(msg)\n"
          ]
        },
        {
          "data": {
            "text/html": [
              "<div>\n",
              "<style scoped>\n",
              "    .dataframe tbody tr th:only-of-type {\n",
              "        vertical-align: middle;\n",
              "    }\n",
              "\n",
              "    .dataframe tbody tr th {\n",
              "        vertical-align: top;\n",
              "    }\n",
              "\n",
              "    .dataframe thead th {\n",
              "        text-align: right;\n",
              "    }\n",
              "</style>\n",
              "<table border=\"1\" class=\"dataframe\">\n",
              "  <thead>\n",
              "    <tr style=\"text-align: right;\">\n",
              "      <th></th>\n",
              "      <th>custid</th>\n",
              "      <th>retained</th>\n",
              "      <th>created</th>\n",
              "      <th>firstorder</th>\n",
              "      <th>lastorder</th>\n",
              "      <th>esent</th>\n",
              "      <th>eopenrate</th>\n",
              "      <th>eclickrate</th>\n",
              "      <th>avgorder</th>\n",
              "      <th>ordfreq</th>\n",
              "      <th>paperless</th>\n",
              "      <th>refill</th>\n",
              "      <th>doorstep</th>\n",
              "      <th>favday</th>\n",
              "      <th>city</th>\n",
              "    </tr>\n",
              "  </thead>\n",
              "  <tbody>\n",
              "    <tr>\n",
              "      <th>0</th>\n",
              "      <td>6H6T6N</td>\n",
              "      <td>0</td>\n",
              "      <td>2012-09-28</td>\n",
              "      <td>2013-08-11 00:00:00</td>\n",
              "      <td>2013-08-11 00:00:00</td>\n",
              "      <td>29</td>\n",
              "      <td>100.000000</td>\n",
              "      <td>3.448276</td>\n",
              "      <td>14.52</td>\n",
              "      <td>0.000000</td>\n",
              "      <td>0</td>\n",
              "      <td>0</td>\n",
              "      <td>0</td>\n",
              "      <td>Monday</td>\n",
              "      <td>DEL</td>\n",
              "    </tr>\n",
              "    <tr>\n",
              "      <th>1</th>\n",
              "      <td>APCENR</td>\n",
              "      <td>1</td>\n",
              "      <td>2010-12-19</td>\n",
              "      <td>2011-04-01 00:00:00</td>\n",
              "      <td>2014-01-19 00:00:00</td>\n",
              "      <td>95</td>\n",
              "      <td>92.631579</td>\n",
              "      <td>10.526316</td>\n",
              "      <td>83.69</td>\n",
              "      <td>0.181641</td>\n",
              "      <td>1</td>\n",
              "      <td>1</td>\n",
              "      <td>1</td>\n",
              "      <td>Friday</td>\n",
              "      <td>DEL</td>\n",
              "    </tr>\n",
              "    <tr>\n",
              "      <th>2</th>\n",
              "      <td>7UP6MS</td>\n",
              "      <td>0</td>\n",
              "      <td>2010-10-03</td>\n",
              "      <td>2010-12-01 00:00:00</td>\n",
              "      <td>2011-07-06 00:00:00</td>\n",
              "      <td>0</td>\n",
              "      <td>0.000000</td>\n",
              "      <td>0.000000</td>\n",
              "      <td>33.58</td>\n",
              "      <td>0.059908</td>\n",
              "      <td>0</td>\n",
              "      <td>0</td>\n",
              "      <td>0</td>\n",
              "      <td>Wednesday</td>\n",
              "      <td>DEL</td>\n",
              "    </tr>\n",
              "    <tr>\n",
              "      <th>3</th>\n",
              "      <td>7ZEW8G</td>\n",
              "      <td>0</td>\n",
              "      <td>2010-10-22</td>\n",
              "      <td>2011-03-28 00:00:00</td>\n",
              "      <td>2011-03-28 00:00:00</td>\n",
              "      <td>0</td>\n",
              "      <td>0.000000</td>\n",
              "      <td>0.000000</td>\n",
              "      <td>54.96</td>\n",
              "      <td>0.000000</td>\n",
              "      <td>0</td>\n",
              "      <td>0</td>\n",
              "      <td>0</td>\n",
              "      <td>Thursday</td>\n",
              "      <td>BOM</td>\n",
              "    </tr>\n",
              "    <tr>\n",
              "      <th>4</th>\n",
              "      <td>8V726M</td>\n",
              "      <td>1</td>\n",
              "      <td>2010-11-27</td>\n",
              "      <td>2010-11-29 00:00:00</td>\n",
              "      <td>2013-01-28 00:00:00</td>\n",
              "      <td>30</td>\n",
              "      <td>90.000000</td>\n",
              "      <td>13.333333</td>\n",
              "      <td>111.91</td>\n",
              "      <td>0.008850</td>\n",
              "      <td>0</td>\n",
              "      <td>0</td>\n",
              "      <td>0</td>\n",
              "      <td>Monday</td>\n",
              "      <td>BOM</td>\n",
              "    </tr>\n",
              "  </tbody>\n",
              "</table>\n",
              "</div>"
            ],
            "text/plain": [
              "   custid  retained    created           firstorder            lastorder  \\\n",
              "0  6H6T6N         0 2012-09-28  2013-08-11 00:00:00  2013-08-11 00:00:00   \n",
              "1  APCENR         1 2010-12-19  2011-04-01 00:00:00  2014-01-19 00:00:00   \n",
              "2  7UP6MS         0 2010-10-03  2010-12-01 00:00:00  2011-07-06 00:00:00   \n",
              "3  7ZEW8G         0 2010-10-22  2011-03-28 00:00:00  2011-03-28 00:00:00   \n",
              "4  8V726M         1 2010-11-27  2010-11-29 00:00:00  2013-01-28 00:00:00   \n",
              "\n",
              "   esent   eopenrate  eclickrate  avgorder   ordfreq  paperless  refill  \\\n",
              "0     29  100.000000    3.448276     14.52  0.000000          0       0   \n",
              "1     95   92.631579   10.526316     83.69  0.181641          1       1   \n",
              "2      0    0.000000    0.000000     33.58  0.059908          0       0   \n",
              "3      0    0.000000    0.000000     54.96  0.000000          0       0   \n",
              "4     30   90.000000   13.333333    111.91  0.008850          0       0   \n",
              "\n",
              "   doorstep     favday city  \n",
              "0         0     Monday  DEL  \n",
              "1         1     Friday  DEL  \n",
              "2         0  Wednesday  DEL  \n",
              "3         0   Thursday  BOM  \n",
              "4         0     Monday  BOM  "
            ]
          },
          "execution_count": 60,
          "metadata": {},
          "output_type": "execute_result"
        }
      ],
      "source": [
        "import boto3\n",
        "import pandas as pd\n",
        "from io import BytesIO\n",
        "from sklearn.model_selection import train_test_split\n",
        "from sklearn.preprocessing import LabelEncoder\n",
        "import sagemaker\n",
        "from sagemaker import get_execution_role\n",
        "from sagemaker.tuner import HyperparameterTuner, IntegerParameter, ContinuousParameter, CategoricalParameter\n",
        "from sagemaker.xgboost.estimator import XGBoost\n",
        "\n",
        "# Initialize the S3 client using the default SageMaker role\n",
        "s3 = boto3.client('s3')\n",
        "\n",
        "# Define the S3 bucket and file key\n",
        "bucket_name = 'sagemaker-us-east-2-971422683094'\n",
        "file_key = 'storedata_total.xlsx'\n",
        "\n",
        "# Fetch the Excel file from S3\n",
        "response = s3.get_object(Bucket=bucket_name, Key=file_key)\n",
        "\n",
        "# Read the file content into a pandas DataFrame\n",
        "excel_data = response['Body'].read()\n",
        "data = pd.read_excel(BytesIO(excel_data))\n",
        "\n",
        "# Display the DataFrame\n",
        "data.head()  # Preview the first few rows of the DataFrame\n"
      ]
    },
    {
      "cell_type": "code",
      "execution_count": null,
      "metadata": {
        "id": "VY6Sv-RslZok"
      },
      "outputs": [],
      "source": [
        "# Handle missing values by dropping rows with missing `custid` or `created`\n",
        "data = data.dropna(subset=['custid', 'created'])"
      ]
    },
    {
      "cell_type": "code",
      "execution_count": null,
      "metadata": {
        "id": "6nHIVbxGlZok",
        "outputId": "428649b9-e082-44c9-d469-ba737edf575d"
      },
      "outputs": [
        {
          "data": {
            "text/html": [
              "<div>\n",
              "<style scoped>\n",
              "    .dataframe tbody tr th:only-of-type {\n",
              "        vertical-align: middle;\n",
              "    }\n",
              "\n",
              "    .dataframe tbody tr th {\n",
              "        vertical-align: top;\n",
              "    }\n",
              "\n",
              "    .dataframe thead th {\n",
              "        text-align: right;\n",
              "    }\n",
              "</style>\n",
              "<table border=\"1\" class=\"dataframe\">\n",
              "  <thead>\n",
              "    <tr style=\"text-align: right;\">\n",
              "      <th></th>\n",
              "      <th>custid</th>\n",
              "      <th>retained</th>\n",
              "      <th>created</th>\n",
              "      <th>firstorder</th>\n",
              "      <th>lastorder</th>\n",
              "      <th>esent</th>\n",
              "      <th>eopenrate</th>\n",
              "      <th>eclickrate</th>\n",
              "      <th>avgorder</th>\n",
              "      <th>ordfreq</th>\n",
              "      <th>paperless</th>\n",
              "      <th>refill</th>\n",
              "      <th>doorstep</th>\n",
              "      <th>favday</th>\n",
              "      <th>city</th>\n",
              "    </tr>\n",
              "  </thead>\n",
              "  <tbody>\n",
              "    <tr>\n",
              "      <th>0</th>\n",
              "      <td>6H6T6N</td>\n",
              "      <td>0</td>\n",
              "      <td>2012-09-28</td>\n",
              "      <td>2013-08-11</td>\n",
              "      <td>2013-08-11</td>\n",
              "      <td>29</td>\n",
              "      <td>100.000000</td>\n",
              "      <td>3.448276</td>\n",
              "      <td>14.52</td>\n",
              "      <td>0.000000</td>\n",
              "      <td>0</td>\n",
              "      <td>0</td>\n",
              "      <td>0</td>\n",
              "      <td>Monday</td>\n",
              "      <td>DEL</td>\n",
              "    </tr>\n",
              "    <tr>\n",
              "      <th>1</th>\n",
              "      <td>APCENR</td>\n",
              "      <td>1</td>\n",
              "      <td>2010-12-19</td>\n",
              "      <td>2011-04-01</td>\n",
              "      <td>2014-01-19</td>\n",
              "      <td>95</td>\n",
              "      <td>92.631579</td>\n",
              "      <td>10.526316</td>\n",
              "      <td>83.69</td>\n",
              "      <td>0.181641</td>\n",
              "      <td>1</td>\n",
              "      <td>1</td>\n",
              "      <td>1</td>\n",
              "      <td>Friday</td>\n",
              "      <td>DEL</td>\n",
              "    </tr>\n",
              "    <tr>\n",
              "      <th>2</th>\n",
              "      <td>7UP6MS</td>\n",
              "      <td>0</td>\n",
              "      <td>2010-10-03</td>\n",
              "      <td>2010-12-01</td>\n",
              "      <td>2011-07-06</td>\n",
              "      <td>0</td>\n",
              "      <td>0.000000</td>\n",
              "      <td>0.000000</td>\n",
              "      <td>33.58</td>\n",
              "      <td>0.059908</td>\n",
              "      <td>0</td>\n",
              "      <td>0</td>\n",
              "      <td>0</td>\n",
              "      <td>Wednesday</td>\n",
              "      <td>DEL</td>\n",
              "    </tr>\n",
              "    <tr>\n",
              "      <th>3</th>\n",
              "      <td>7ZEW8G</td>\n",
              "      <td>0</td>\n",
              "      <td>2010-10-22</td>\n",
              "      <td>2011-03-28</td>\n",
              "      <td>2011-03-28</td>\n",
              "      <td>0</td>\n",
              "      <td>0.000000</td>\n",
              "      <td>0.000000</td>\n",
              "      <td>54.96</td>\n",
              "      <td>0.000000</td>\n",
              "      <td>0</td>\n",
              "      <td>0</td>\n",
              "      <td>0</td>\n",
              "      <td>Thursday</td>\n",
              "      <td>BOM</td>\n",
              "    </tr>\n",
              "    <tr>\n",
              "      <th>4</th>\n",
              "      <td>8V726M</td>\n",
              "      <td>1</td>\n",
              "      <td>2010-11-27</td>\n",
              "      <td>2010-11-29</td>\n",
              "      <td>2013-01-28</td>\n",
              "      <td>30</td>\n",
              "      <td>90.000000</td>\n",
              "      <td>13.333333</td>\n",
              "      <td>111.91</td>\n",
              "      <td>0.008850</td>\n",
              "      <td>0</td>\n",
              "      <td>0</td>\n",
              "      <td>0</td>\n",
              "      <td>Monday</td>\n",
              "      <td>BOM</td>\n",
              "    </tr>\n",
              "  </tbody>\n",
              "</table>\n",
              "</div>"
            ],
            "text/plain": [
              "   custid  retained    created firstorder  lastorder  esent   eopenrate  \\\n",
              "0  6H6T6N         0 2012-09-28 2013-08-11 2013-08-11     29  100.000000   \n",
              "1  APCENR         1 2010-12-19 2011-04-01 2014-01-19     95   92.631579   \n",
              "2  7UP6MS         0 2010-10-03 2010-12-01 2011-07-06      0    0.000000   \n",
              "3  7ZEW8G         0 2010-10-22 2011-03-28 2011-03-28      0    0.000000   \n",
              "4  8V726M         1 2010-11-27 2010-11-29 2013-01-28     30   90.000000   \n",
              "\n",
              "   eclickrate  avgorder   ordfreq  paperless  refill  doorstep     favday city  \n",
              "0    3.448276     14.52  0.000000          0       0         0     Monday  DEL  \n",
              "1   10.526316     83.69  0.181641          1       1         1     Friday  DEL  \n",
              "2    0.000000     33.58  0.059908          0       0         0  Wednesday  DEL  \n",
              "3    0.000000     54.96  0.000000          0       0         0   Thursday  BOM  \n",
              "4   13.333333    111.91  0.008850          0       0         0     Monday  BOM  "
            ]
          },
          "execution_count": 62,
          "metadata": {},
          "output_type": "execute_result"
        }
      ],
      "source": [
        "# Convert date columns to datetime type\n",
        "data['firstorder'] = pd.to_datetime(data['firstorder'], errors='coerce')\n",
        "data['lastorder'] = pd.to_datetime(data['lastorder'], errors='coerce')\n",
        "data.head()"
      ]
    },
    {
      "cell_type": "code",
      "execution_count": null,
      "metadata": {
        "id": "mMUNkPzflZok"
      },
      "outputs": [],
      "source": [
        "# Encode categorical columns (`favday`, `city`)\n",
        "label_encoder_favday = LabelEncoder()\n",
        "label_encoder_city = LabelEncoder()\n",
        "data['favday'] = label_encoder_favday.fit_transform(data['favday'])\n",
        "data['city'] = label_encoder_city.fit_transform(data['city'])"
      ]
    },
    {
      "cell_type": "code",
      "execution_count": null,
      "metadata": {
        "id": "KA2tDgaTlZol"
      },
      "outputs": [],
      "source": [
        "# Prepare the target and feature sets\n",
        "X = data.drop(columns=['custid', 'retained'])\n",
        "y = data['retained']"
      ]
    },
    {
      "cell_type": "code",
      "execution_count": null,
      "metadata": {
        "id": "E9ZJRQKBlZol"
      },
      "outputs": [],
      "source": [
        "# Split the data\n",
        "X_train, X_temp, y_train, y_temp = train_test_split(X, y, test_size=0.3, random_state=42)\n",
        "X_val, X_test, y_val, y_test = train_test_split(X_temp, y_temp, test_size=0.5, random_state=42)"
      ]
    },
    {
      "cell_type": "code",
      "execution_count": null,
      "metadata": {
        "id": "fmLR98vPlZol",
        "outputId": "a9413df3-2ae5-4eaa-87cb-e91c9485106e"
      },
      "outputs": [
        {
          "name": "stdout",
          "output_type": "stream",
          "text": [
            "sagemaker-us-east-2-971422683094\n"
          ]
        }
      ],
      "source": [
        "# Initialize SageMaker session and role\n",
        "sagemaker_session = sagemaker.Session()\n",
        "role = get_execution_role()\n",
        "print(sagemaker_session.default_bucket())"
      ]
    },
    {
      "cell_type": "code",
      "execution_count": null,
      "metadata": {
        "id": "CFT0oVK_lZol"
      },
      "outputs": [],
      "source": [
        "# Set up the XGBoost estimator\n",
        "xgb = XGBoost(\n",
        "    entry_point='train.py',\n",
        "    framework_version='1.5-1',\n",
        "    instance_type='ml.m5.xlarge',\n",
        "    instance_count=1,\n",
        "    output_path=f's3://{sagemaker_session.default_bucket()}/output',\n",
        "    sagemaker_session=sagemaker_session,\n",
        "    role=role,\n",
        ")"
      ]
    },
    {
      "cell_type": "code",
      "execution_count": null,
      "metadata": {
        "id": "ivpEIHuRlZol"
      },
      "outputs": [],
      "source": [
        "hyperparameter_ranges = {\n",
        "    'max_depth': IntegerParameter(3, 10),\n",
        "    'eta': ContinuousParameter(0.01, 0.3),\n",
        "    'gamma': ContinuousParameter(0, 5),\n",
        "    'min_child_weight': IntegerParameter(1, 10),\n",
        "    'subsample': ContinuousParameter(0.5, 1.0),\n",
        "}"
      ]
    },
    {
      "cell_type": "code",
      "execution_count": null,
      "metadata": {
        "id": "AVz0I1qelZom"
      },
      "outputs": [],
      "source": [
        "tuner = HyperparameterTuner(\n",
        "    xgb,\n",
        "    objective_metric_name='validation:auc',\n",
        "    hyperparameter_ranges=hyperparameter_ranges,\n",
        "    max_jobs=20,\n",
        "    max_parallel_jobs=3,\n",
        ")"
      ]
    },
    {
      "cell_type": "code",
      "execution_count": null,
      "metadata": {
        "id": "K1am7nwalZom"
      },
      "outputs": [],
      "source": [
        "tuner.fit({'train': 's3://arn:aws:iam::971422683094:role/service-role/AmazonSageMaker-ExecutionRole-20241113T114041', 'validation': 's3://arn:aws:iam::971422683094:role/service-role/AmazonSageMaker-ExecutionRole-20241113T114041'})"
      ]
    },
    {
      "cell_type": "code",
      "execution_count": null,
      "metadata": {
        "id": "xffFJVDnlZom"
      },
      "outputs": [],
      "source": [
        "from sagemaker.estimator import Estimator\n",
        "\n",
        "# Attach the best model from tuning\n",
        "best_model = tuner.best_estimator()\n",
        "\n",
        "# Deploy or evaluate the model (download model artifacts and run predictions)\n",
        "best_model.download('best_model.tar.gz')\n",
        "# Unzip and load the model locally if needed for evaluation\n",
        "\n",
        "# Evaluate AUC on the test set\n",
        "from sklearn.metrics import roc_auc_score\n",
        "\n",
        "y_pred = best_model.predict(X_test)\n",
        "auc_score = roc_auc_score(y_test, y_pred)\n",
        "print(f'AUC Score: {auc_score}')\n",
        "\n",
        "# Check if the AUC is above a threshold (e.g., 0.75)\n",
        "if auc_score > 0.75:\n",
        "    print(\"Proceeding to register the model.\")\n"
      ]
    },
    {
      "cell_type": "code",
      "execution_count": null,
      "metadata": {
        "id": "xWBxuvpZlZom"
      },
      "outputs": [],
      "source": [
        "# Register the model\n",
        "model_package = best_model.register(\n",
        "    content_types=[\"text/csv\"],\n",
        "    response_types=[\"text/csv\"],\n",
        "    inference_instances=[\"ml.m5.large\"],\n",
        "    transform_instances=[\"ml.m5.large\"],\n",
        "    model_package_group_name=\"CustomerChurnModelGroup\",\n",
        "    approval_status=\"Approved\",\n",
        ")\n"
      ]
    },
    {
      "cell_type": "code",
      "execution_count": null,
      "metadata": {
        "id": "Je6V2siMlZom"
      },
      "outputs": [],
      "source": [
        "# Create a model for deployment\n",
        "sagemaker_model = best_model.create_model(\n",
        "    instance_type='ml.m5.large',\n",
        "    role=role,\n",
        ")\n"
      ]
    },
    {
      "cell_type": "code",
      "execution_count": null,
      "metadata": {
        "id": "Bf3I89JJlZom"
      },
      "outputs": [],
      "source": [
        "transformer = sagemaker_model.transformer(\n",
        "    instance_count=1,\n",
        "    instance_type='ml.m5.large',\n",
        "    output_path=f's3://{sagemaker_session.default_bucket()}/batch-transform-output',\n",
        ")\n",
        "\n",
        "# Run batch transform\n",
        "transformer.transform(data='s3://path-to-batch-input', content_type='text/csv', split_type='Line')\n",
        "transformer.wait()\n"
      ]
    },
    {
      "cell_type": "code",
      "execution_count": null,
      "metadata": {
        "id": "E5PGkTzElZon"
      },
      "outputs": [],
      "source": [
        "clarify_config = {\n",
        "    \"bias_config\": {\n",
        "        \"label_values_or_threshold\": [1],\n",
        "        \"facet_name\": \"city\",\n",
        "        \"facet_values_or_threshold\": [\"DEL\"],\n",
        "    },\n",
        "    \"shap_config\": {\n",
        "        \"baseline\": X_train.iloc[:100].mean().tolist(),  # Example baseline\n",
        "        \"num_samples\": 100,\n",
        "    },\n",
        "    \"predictor_config\": {\n",
        "        \"instance_type\": \"ml.m5.large\",\n",
        "        \"instance_count\": 1,\n",
        "        \"initial_instance_count\": 1,\n",
        "    },\n",
        "}\n",
        "\n",
        "\n"
      ]
    }
  ],
  "metadata": {
    "colab": {
      "provenance": [],
      "include_colab_link": true
    },
    "kernelspec": {
      "display_name": "Python 3 (ipykernel)",
      "language": "python",
      "name": "python3"
    },
    "language_info": {
      "codemirror_mode": {
        "name": "ipython",
        "version": 3
      },
      "file_extension": ".py",
      "mimetype": "text/x-python",
      "name": "python",
      "nbconvert_exporter": "python",
      "pygments_lexer": "ipython3",
      "version": "3.11.10"
    }
  },
  "nbformat": 4,
  "nbformat_minor": 0
}